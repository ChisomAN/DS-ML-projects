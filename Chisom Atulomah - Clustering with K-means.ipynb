{
 "cells": [
  {
   "cell_type": "code",
   "execution_count": 1,
   "id": "adfee3fb-4e15-4676-9bad-18b5f90fc418",
   "metadata": {},
   "outputs": [
    {
     "ename": "ModuleNotFoundError",
     "evalue": "No module named 'matplotlib'",
     "output_type": "error",
     "traceback": [
      "\u001b[31m---------------------------------------------------------------------------\u001b[39m",
      "\u001b[31mModuleNotFoundError\u001b[39m                       Traceback (most recent call last)",
      "\u001b[36mCell\u001b[39m\u001b[36m \u001b[39m\u001b[32mIn[1]\u001b[39m\u001b[32m, line 3\u001b[39m\n\u001b[32m      1\u001b[39m \u001b[38;5;28;01mimport\u001b[39;00m\u001b[38;5;250m \u001b[39m\u001b[34;01mpandas\u001b[39;00m\u001b[38;5;250m \u001b[39m\u001b[38;5;28;01mas\u001b[39;00m\u001b[38;5;250m \u001b[39m\u001b[34;01mpd\u001b[39;00m\n\u001b[32m      2\u001b[39m \u001b[38;5;28;01mimport\u001b[39;00m\u001b[38;5;250m \u001b[39m\u001b[34;01mnumpy\u001b[39;00m\u001b[38;5;250m \u001b[39m\u001b[38;5;28;01mas\u001b[39;00m\u001b[38;5;250m \u001b[39m\u001b[34;01mnp\u001b[39;00m\n\u001b[32m----> \u001b[39m\u001b[32m3\u001b[39m \u001b[38;5;28;01mimport\u001b[39;00m\u001b[38;5;250m \u001b[39m\u001b[34;01mmatplotlib\u001b[39;00m\u001b[34;01m.\u001b[39;00m\u001b[34;01mpyplot\u001b[39;00m\u001b[38;5;250m \u001b[39m\u001b[38;5;28;01mas\u001b[39;00m\u001b[38;5;250m \u001b[39m\u001b[34;01mplt\u001b[39;00m\n\u001b[32m      4\u001b[39m \u001b[38;5;28;01mimport\u001b[39;00m\u001b[38;5;250m \u001b[39m\u001b[34;01mseaborn\u001b[39;00m\u001b[38;5;250m \u001b[39m\u001b[38;5;28;01mas\u001b[39;00m\u001b[38;5;250m \u001b[39m\u001b[34;01msns\u001b[39;00m\n\u001b[32m      5\u001b[39m \u001b[38;5;28;01mfrom\u001b[39;00m\u001b[38;5;250m \u001b[39m\u001b[34;01msklearn\u001b[39;00m\u001b[34;01m.\u001b[39;00m\u001b[34;01mcluster\u001b[39;00m\u001b[38;5;250m \u001b[39m\u001b[38;5;28;01mimport\u001b[39;00m KMeans\n",
      "\u001b[31mModuleNotFoundError\u001b[39m: No module named 'matplotlib'"
     ]
    }
   ],
   "source": [
    "import pandas as pd\n",
    "import numpy as np\n",
    "import matplotlib.pyplot as plt\n",
    "import seaborn as sns\n",
    "from sklearn.cluster import KMeans\n",
    "from sklearn.preprocessing import StandardScaler\n",
    "from sklearn.metrics import silhouette_score\n",
    "from sklearn.preprocessing import OneHotEncoder\n",
    "from sklearn.decomposition import PCA"
   ]
  },
  {
   "cell_type": "code",
   "execution_count": null,
   "id": "e0a454ef-5280-49a8-8791-3db3efb60374",
   "metadata": {},
   "outputs": [],
   "source": [
    "pip install ucimlrepo"
   ]
  },
  {
   "cell_type": "code",
   "execution_count": null,
   "id": "94c14263-b91b-4d1e-bd92-8a1f02875a7f",
   "metadata": {},
   "outputs": [],
   "source": [
    "from ucimlrepo import fetch_ucirepo\n",
    "\n",
    "# Load Dataset\n",
    "online_retail = fetch_ucirepo(id=352)\n",
    "X1 = online_retail.data.features\n",
    "y1 = online_retail.data.targets\n",
    "\n",
    "# Initial Exploration\n",
    "print(X1.info())\n",
    "print(X1.describe())"
   ]
  },
  {
   "cell_type": "code",
   "execution_count": null,
   "id": "55db0ae5-f866-43d4-8f9e-4a596f159b82",
   "metadata": {},
   "outputs": [],
   "source": [
    "online_shoppers = fetch_ucirepo(id=468)\n",
    "X2 = online_shoppers.data.features\n",
    "y2 = online_shoppers.data.targets\n",
    "\n",
    "# Initial Exploration\n",
    "print(X2.info())\n",
    "print(X2.describe())"
   ]
  },
  {
   "cell_type": "code",
   "execution_count": null,
   "id": "bd022c30-7b45-4e1d-bd9e-74f761bd003a",
   "metadata": {},
   "outputs": [],
   "source": [
    "X1 = X1.dropna()\n",
    "X2 = X2.fillna(0)"
   ]
  },
  {
   "cell_type": "code",
   "execution_count": null,
   "id": "df821491-d728-4163-ac05-a083adb7670f",
   "metadata": {},
   "outputs": [],
   "source": [
    "print(X1.columns)"
   ]
  },
  {
   "cell_type": "code",
   "execution_count": null,
   "id": "9904df38-2f02-480d-bfaf-e40a5fa0b3fe",
   "metadata": {},
   "outputs": [],
   "source": [
    "non_numeric_cols = X1.select_dtypes(exclude=['number']).columns\n",
    "print(non_numeric_cols)"
   ]
  },
  {
   "cell_type": "code",
   "execution_count": null,
   "id": "3ca51961-9fc1-481a-bfcb-4aa28b80621d",
   "metadata": {
    "scrolled": true
   },
   "outputs": [],
   "source": [
    "encoder = OneHotEncoder()\n",
    "X1_encoded = encoder.fit_transform(X1[['Description']])  # Replace 'ColumnName' with the actual name"
   ]
  },
  {
   "cell_type": "code",
   "execution_count": null,
   "id": "1973af1c-ef1f-4f6f-baf9-7d1eb5f6f876",
   "metadata": {},
   "outputs": [],
   "source": [
    "X1_encoded = encoder.fit_transform(X1[non_numeric_cols])"
   ]
  },
  {
   "cell_type": "code",
   "execution_count": null,
   "id": "c9f26710-2264-4cfa-a568-eaf70eecdb99",
   "metadata": {},
   "outputs": [],
   "source": [
    "from scipy.sparse import hstack\n",
    "\n",
    "# Assuming X1 is the original DataFrame\n",
    "non_numeric_cols = X1.select_dtypes(include=['object']).columns  # Identify non-numeric columns\n",
    "numeric_cols = X1.select_dtypes(include=['number'])              # Select numeric columns\n",
    "\n",
    "# Assuming X2 is already loaded and preprocessed\n",
    "non_numeric_cols_X2 = X2.select_dtypes(include=['object']).columns  # Identify non-numeric columns\n",
    "encoder_X2 = OneHotEncoder()\n",
    "X2_encoded = encoder_X2.fit_transform(X2[non_numeric_cols_X2])\n",
    "\n",
    "# One-hot encode non-numeric columns\n",
    "encoder = OneHotEncoder(sparse_output=True)  # Use sparse output\n",
    "X1_encoded = encoder.fit_transform(X1[non_numeric_cols])\n",
    "\n",
    "# Combine numeric data and encoded features\n",
    "X1_combined_sparse = hstack([numeric_cols, X1_encoded])\n",
    "\n",
    "# Convert to a dense DataFrame if necessary\n",
    "X1_final = pd.DataFrame(X1_combined_sparse.toarray(), columns=list(numeric_cols.columns) + list(encoder.get_feature_names_out(non_numeric_cols)))"
   ]
  },
  {
   "cell_type": "code",
   "execution_count": null,
   "id": "03892ed4-5d6c-472e-a061-a25a67371c63",
   "metadata": {},
   "outputs": [],
   "source": [
    "def find_optimal_k(data):\n",
    "    sse = []\n",
    "    k_range = range(1, 15)\n",
    "    for k in k_range:\n",
    "        kmeans = KMeans(n_clusters=k, random_state=42)\n",
    "        kmeans.fit(data)\n",
    "        sse.append(kmeans.inertia_)\n",
    "    \n",
    "    plt.plot(k_range, sse, marker='o')\n",
    "    plt.xlabel('Number of Clusters (k)')\n",
    "    plt.ylabel('SSE')\n",
    "    plt.title('Elbow Method')\n",
    "    plt.show()\n",
    "\n",
    "# Apply Elbow Method\n",
    "find_optimal_k(X1_encoded)\n",
    "find_optimal_k(X2_encoded)"
   ]
  },
  {
   "cell_type": "code",
   "execution_count": null,
   "id": "57f78dee-e222-437d-ad93-f76ebcbcd4ef",
   "metadata": {},
   "outputs": [],
   "source": [
    "# K-Means with optimal k\n",
    "optimal_k1 = 5  # Replace with result from Elbow Method\n",
    "optimal_k2 = 4  # Replace with result from Elbow Method\n",
    "\n",
    "kmeans1 = KMeans(n_clusters=optimal_k1, random_state=42)\n",
    "kmeans1.fit(X1_encoded)\n",
    "labels1 = kmeans1.labels_\n",
    "\n",
    "kmeans2 = KMeans(n_clusters=optimal_k2, random_state=42)\n",
    "kmeans2.fit(X2_encoded)\n",
    "labels2 = kmeans2.labels_"
   ]
  },
  {
   "cell_type": "code",
   "execution_count": null,
   "id": "8dba8f2a-6f7e-4038-a1ae-f1bad8535f2e",
   "metadata": {},
   "outputs": [],
   "source": [
    "# Reduce the dataset size for silhouette calculation\n",
    "from sklearn.utils import shuffle\n",
    "\n",
    "X1_sample = shuffle(X1_encoded, random_state=42)[:1000]  # Adjust sample size as needed\n",
    "X2_sample = shuffle(X2_encoded, random_state=42)[:1000]\n",
    "\n",
    "from sklearn.metrics import silhouette_score\n",
    "\n",
    "score1 = silhouette_score(X1_sample, labels1[:1000])\n",
    "score2 = silhouette_score(X2_sample, labels2[:1000])\n",
    "\n",
    "# Correctly terminate the f-strings\n",
    "print(f\"Silhouette Score for Dataset 1: {score1}\")\n",
    "print(f\"Silhouette Score for Dataset 2: {score2}\")"
   ]
  },
  {
   "cell_type": "code",
   "execution_count": null,
   "id": "ae5a16fd-78a7-49f6-b3e7-7e6e145fd905",
   "metadata": {},
   "outputs": [],
   "source": [
    "# Apply PCA to reduce dimensions to 2\n",
    "pca = PCA(n_components=2)\n",
    "X1_pca = pca.fit_transform(X1_encoded.toarray())  # Convert sparse matrix to dense\n",
    "X2_pca = pca.fit_transform(X2_encoded.toarray())\n",
    "\n",
    "# Scatter plot for Dataset 1\n",
    "plt.scatter(X1_pca[:, 0], X1_pca[:, 1], c=labels1, cmap='viridis', s=50)\n",
    "plt.title('Clusters for Dataset 1')\n",
    "plt.xlabel('PCA Component 1')\n",
    "plt.ylabel('PCA Component 2')\n",
    "plt.colorbar(label='Cluster Label')\n",
    "plt.show()\n",
    "\n",
    "# Scatter plot for Dataset 2\n",
    "plt.scatter(X2_pca[:, 0], X2_pca[:, 1], c=labels2, cmap='viridis', s=50)\n",
    "plt.title('Clusters for Dataset 2')\n",
    "plt.xlabel('PCA Component 1')\n",
    "plt.ylabel('PCA Component 2')\n",
    "plt.colorbar(label='Cluster Label')\n",
    "plt.show()"
   ]
  }
 ],
 "metadata": {
  "kernelspec": {
   "display_name": "Python 3 (ipykernel)",
   "language": "python",
   "name": "python3"
  },
  "language_info": {
   "codemirror_mode": {
    "name": "ipython",
    "version": 3
   },
   "file_extension": ".py",
   "mimetype": "text/x-python",
   "name": "python",
   "nbconvert_exporter": "python",
   "pygments_lexer": "ipython3",
   "version": "3.13.5"
  }
 },
 "nbformat": 4,
 "nbformat_minor": 5
}
